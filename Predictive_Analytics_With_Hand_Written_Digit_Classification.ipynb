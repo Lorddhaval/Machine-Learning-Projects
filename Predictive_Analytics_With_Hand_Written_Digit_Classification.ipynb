{
  "nbformat": 4,
  "nbformat_minor": 0,
  "metadata": {
    "colab": {
      "name": "Predictive Analytics With Hand Written Digit Classification.ipynb",
      "provenance": []
    },
    "kernelspec": {
      "name": "python3",
      "display_name": "Python 3"
    },
    "language_info": {
      "name": "python"
    }
  },
  "cells": [
    {
      "cell_type": "markdown",
      "source": [
        "**Import Library**"
      ],
      "metadata": {
        "id": "wFWAeDJYq8ME"
      }
    },
    {
      "cell_type": "code",
      "execution_count": 1,
      "metadata": {
        "id": "LmLqmwF3qa9C"
      },
      "outputs": [],
      "source": [
        "import pandas as pd"
      ]
    },
    {
      "cell_type": "code",
      "source": [
        "import numpy as np"
      ],
      "metadata": {
        "id": "OyaW7rwzqzRo"
      },
      "execution_count": 2,
      "outputs": []
    },
    {
      "cell_type": "code",
      "source": [
        "import matplotlib.pyplot as plt"
      ],
      "metadata": {
        "id": "j4wl3NhAq2Ks"
      },
      "execution_count": 3,
      "outputs": []
    },
    {
      "cell_type": "markdown",
      "source": [
        "**Import Data**"
      ],
      "metadata": {
        "id": "ElIWxD08rJ-Y"
      }
    },
    {
      "cell_type": "code",
      "source": [
        "from sklearn.datasets import load_digits"
      ],
      "metadata": {
        "id": "qtlFMNB2rMd7"
      },
      "execution_count": 4,
      "outputs": []
    },
    {
      "cell_type": "code",
      "source": [
        "df = load_digits()"
      ],
      "metadata": {
        "id": "ES8bI-W_rXcr"
      },
      "execution_count": 5,
      "outputs": []
    },
    {
      "cell_type": "code",
      "source": [
        "_, axes = plt.subplots(nrows=1, ncols=4, figsize=(10,3))\n",
        "for ax, image, label in zip(axes, df.images, df.target):\n",
        "    ax.set_axis_off()\n",
        "    ax.imshow(image, cmap=plt.cm.gray_r, interpolation=\"nearest\")\n",
        "    ax.set_title(\"Training: %i\" %label)"
      ],
      "metadata": {
        "colab": {
          "base_uri": "https://localhost:8080/",
          "height": 168
        },
        "id": "0JH7XqofrcW8",
        "outputId": "9878a1b6-6bd7-4487-819c-9b80d998023a"
      },
      "execution_count": 6,
      "outputs": [
        {
          "output_type": "display_data",
          "data": {
            "text/plain": [
              "<Figure size 720x216 with 4 Axes>"
            ],
            "image/png": "[encoded data removed]"
          },
          "metadata": {
            "needs_background": "light"
          }
        }
      ]
    },
    {
      "cell_type": "markdown",
      "source": [
        "**Data Preprocessing**"
      ],
      "metadata": {
        "id": "A-jpbaWCsgLF"
      }
    },
    {
      "cell_type": "code",
      "source": [
        "df.images.shape"
      ],
      "metadata": {
        "colab": {
          "base_uri": "https://localhost:8080/"
        },
        "id": "bNpoY77Dskub",
        "outputId": "5c9eb81b-9ff5-4102-dace-9c19a7462ada"
      },
      "execution_count": 7,
      "outputs": [
        {
          "output_type": "execute_result",
          "data": {
            "text/plain": [
              "(1797, 8, 8)"
            ]
          },
          "metadata": {},
          "execution_count": 7
        }
      ]
    },
    {
      "cell_type": "code",
      "source": [
        "df.images[0]\n"
      ],
      "metadata": {
        "colab": {
          "base_uri": "https://localhost:8080/"
        },
        "id": "fkAuWkp4swhD",
        "outputId": "91f8863d-f4a6-443d-fdba-7590eeb29139"
      },
      "execution_count": 8,
      "outputs": [
        {
          "output_type": "execute_result",
          "data": {
            "text/plain": [
              "array([[ 0.,  0.,  5., 13.,  9.,  1.,  0.,  0.],\n",
              "       [ 0.,  0., 13., 15., 10., 15.,  5.,  0.],\n",
              "       [ 0.,  3., 15.,  2.,  0., 11.,  8.,  0.],\n",
              "       [ 0.,  4., 12.,  0.,  0.,  8.,  8.,  0.],\n",
              "       [ 0.,  5.,  8.,  0.,  0.,  9.,  8.,  0.],\n",
              "       [ 0.,  4., 11.,  0.,  1., 12.,  7.,  0.],\n",
              "       [ 0.,  2., 14.,  5., 10., 12.,  0.,  0.],\n",
              "       [ 0.,  0.,  6., 13., 10.,  0.,  0.,  0.]])"
            ]
          },
          "metadata": {},
          "execution_count": 8
        }
      ]
    },
    {
      "cell_type": "code",
      "source": [
        "df.images[0].shape"
      ],
      "metadata": {
        "colab": {
          "base_uri": "https://localhost:8080/"
        },
        "id": "r3ZuC-w9swoM",
        "outputId": "b224590f-e35f-4a59-cece-cf3dc664a613"
      },
      "execution_count": 9,
      "outputs": [
        {
          "output_type": "execute_result",
          "data": {
            "text/plain": [
              "(8, 8)"
            ]
          },
          "metadata": {},
          "execution_count": 9
        }
      ]
    },
    {
      "cell_type": "code",
      "source": [
        "n_samples = len(df.images)\n",
        "data = df.images.reshape((n_samples, -1))"
      ],
      "metadata": {
        "id": "DFToUrJDswuT"
      },
      "execution_count": 10,
      "outputs": []
    },
    {
      "cell_type": "code",
      "source": [
        "data[0]"
      ],
      "metadata": {
        "colab": {
          "base_uri": "https://localhost:8080/"
        },
        "id": "2UJY4o-Zsw4C",
        "outputId": "6939c620-3d11-4071-8c0a-8ab1d158e51e"
      },
      "execution_count": 11,
      "outputs": [
        {
          "output_type": "execute_result",
          "data": {
            "text/plain": [
              "array([ 0.,  0.,  5., 13.,  9.,  1.,  0.,  0.,  0.,  0., 13., 15., 10.,\n",
              "       15.,  5.,  0.,  0.,  3., 15.,  2.,  0., 11.,  8.,  0.,  0.,  4.,\n",
              "       12.,  0.,  0.,  8.,  8.,  0.,  0.,  5.,  8.,  0.,  0.,  9.,  8.,\n",
              "        0.,  0.,  4., 11.,  0.,  1., 12.,  7.,  0.,  0.,  2., 14.,  5.,\n",
              "       10., 12.,  0.,  0.,  0.,  0.,  6., 13., 10.,  0.,  0.,  0.])"
            ]
          },
          "metadata": {},
          "execution_count": 11
        }
      ]
    },
    {
      "cell_type": "code",
      "source": [
        "data[0].shape"
      ],
      "metadata": {
        "colab": {
          "base_uri": "https://localhost:8080/"
        },
        "id": "kL_ZbXgktVeB",
        "outputId": "fda4a7a0-cda9-4a85-af03-287702ca30a6"
      },
      "execution_count": 12,
      "outputs": [
        {
          "output_type": "execute_result",
          "data": {
            "text/plain": [
              "(64,)"
            ]
          },
          "metadata": {},
          "execution_count": 12
        }
      ]
    },
    {
      "cell_type": "code",
      "source": [
        "data.shape"
      ],
      "metadata": {
        "colab": {
          "base_uri": "https://localhost:8080/"
        },
        "id": "dYs9lKVPtaN0",
        "outputId": "06fe6dfd-4b14-45a0-c897-721b27b1b3c0"
      },
      "execution_count": 13,
      "outputs": [
        {
          "output_type": "execute_result",
          "data": {
            "text/plain": [
              "(1797, 64)"
            ]
          },
          "metadata": {},
          "execution_count": 13
        }
      ]
    },
    {
      "cell_type": "markdown",
      "source": [
        "**Scalling Data**"
      ],
      "metadata": {
        "id": "xMRPYgfMtgof"
      }
    },
    {
      "cell_type": "code",
      "source": [
        "data.min()"
      ],
      "metadata": {
        "colab": {
          "base_uri": "https://localhost:8080/"
        },
        "id": "nou5zOKZtjL0",
        "outputId": "78831038-33bd-422b-9373-1e71d1f1d8bb"
      },
      "execution_count": 14,
      "outputs": [
        {
          "output_type": "execute_result",
          "data": {
            "text/plain": [
              "0.0"
            ]
          },
          "metadata": {},
          "execution_count": 14
        }
      ]
    },
    {
      "cell_type": "code",
      "source": [
        "data.max()"
      ],
      "metadata": {
        "colab": {
          "base_uri": "https://localhost:8080/"
        },
        "id": "vqiPv97rtopY",
        "outputId": "9cb59d81-dd74-4906-ffb2-97be4f7bfa32"
      },
      "execution_count": 15,
      "outputs": [
        {
          "output_type": "execute_result",
          "data": {
            "text/plain": [
              "16.0"
            ]
          },
          "metadata": {},
          "execution_count": 15
        }
      ]
    },
    {
      "cell_type": "code",
      "source": [
        "data = data/16"
      ],
      "metadata": {
        "id": "tJ4cxx8ptwOA"
      },
      "execution_count": 16,
      "outputs": []
    },
    {
      "cell_type": "code",
      "source": [
        "data.min()"
      ],
      "metadata": {
        "colab": {
          "base_uri": "https://localhost:8080/"
        },
        "id": "HwtjPzRlt1f4",
        "outputId": "bc704e5b-c3b5-4e42-c6e1-b3fb5e9b260d"
      },
      "execution_count": 17,
      "outputs": [
        {
          "output_type": "execute_result",
          "data": {
            "text/plain": [
              "0.0"
            ]
          },
          "metadata": {},
          "execution_count": 17
        }
      ]
    },
    {
      "cell_type": "code",
      "source": [
        "data.max()"
      ],
      "metadata": {
        "colab": {
          "base_uri": "https://localhost:8080/"
        },
        "id": "j6RYQgBCt1nX",
        "outputId": "eba89d4e-790b-4a37-c824-201e3ee5c26e"
      },
      "execution_count": 18,
      "outputs": [
        {
          "output_type": "execute_result",
          "data": {
            "text/plain": [
              "1.0"
            ]
          },
          "metadata": {},
          "execution_count": 18
        }
      ]
    },
    {
      "cell_type": "code",
      "source": [
        "data[0]"
      ],
      "metadata": {
        "colab": {
          "base_uri": "https://localhost:8080/"
        },
        "id": "j6UGFmV-uEwd",
        "outputId": "bb889eb9-c61c-4017-e33c-4ccaa06d532e"
      },
      "execution_count": 19,
      "outputs": [
        {
          "output_type": "execute_result",
          "data": {
            "text/plain": [
              "array([0.    , 0.    , 0.3125, 0.8125, 0.5625, 0.0625, 0.    , 0.    ,\n",
              "       0.    , 0.    , 0.8125, 0.9375, 0.625 , 0.9375, 0.3125, 0.    ,\n",
              "       0.    , 0.1875, 0.9375, 0.125 , 0.    , 0.6875, 0.5   , 0.    ,\n",
              "       0.    , 0.25  , 0.75  , 0.    , 0.    , 0.5   , 0.5   , 0.    ,\n",
              "       0.    , 0.3125, 0.5   , 0.    , 0.    , 0.5625, 0.5   , 0.    ,\n",
              "       0.    , 0.25  , 0.6875, 0.    , 0.0625, 0.75  , 0.4375, 0.    ,\n",
              "       0.    , 0.125 , 0.875 , 0.3125, 0.625 , 0.75  , 0.    , 0.    ,\n",
              "       0.    , 0.    , 0.375 , 0.8125, 0.625 , 0.    , 0.    , 0.    ])"
            ]
          },
          "metadata": {},
          "execution_count": 19
        }
      ]
    },
    {
      "cell_type": "markdown",
      "source": [
        "**Train Test Split Data**"
      ],
      "metadata": {
        "id": "haCCy4yTt7HK"
      }
    },
    {
      "cell_type": "code",
      "source": [
        "from sklearn.model_selection import train_test_split"
      ],
      "metadata": {
        "id": "1FNMQr94t-P8"
      },
      "execution_count": 20,
      "outputs": []
    },
    {
      "cell_type": "code",
      "source": [
        "x_train, x_test, y_train, y_test = train_test_split(data, df.target, test_size=0.3)"
      ],
      "metadata": {
        "id": "Podn2EWlucjf"
      },
      "execution_count": 21,
      "outputs": []
    },
    {
      "cell_type": "code",
      "source": [
        "x_train.shape, x_test.shape, y_train.shape, y_test.shape"
      ],
      "metadata": {
        "colab": {
          "base_uri": "https://localhost:8080/"
        },
        "id": "vGphBbRsucqQ",
        "outputId": "2a1c28d4-c30b-4583-93a3-1b4bfa337840"
      },
      "execution_count": 22,
      "outputs": [
        {
          "output_type": "execute_result",
          "data": {
            "text/plain": [
              "((1257, 64), (540, 64), (1257,), (540,))"
            ]
          },
          "metadata": {},
          "execution_count": 22
        }
      ]
    },
    {
      "cell_type": "markdown",
      "source": [
        "**Random Forest Model**"
      ],
      "metadata": {
        "id": "lAc8jNNVu_Bh"
      }
    },
    {
      "cell_type": "code",
      "source": [
        "from sklearn.ensemble import RandomForestClassifier"
      ],
      "metadata": {
        "id": "cX7g0rM2vC6n"
      },
      "execution_count": 23,
      "outputs": []
    },
    {
      "cell_type": "code",
      "source": [
        "rf = RandomForestClassifier()"
      ],
      "metadata": {
        "id": "J3xV4WL7vFGb"
      },
      "execution_count": 24,
      "outputs": []
    },
    {
      "cell_type": "code",
      "source": [
        "rf.fit(x_train, y_train)"
      ],
      "metadata": {
        "colab": {
          "base_uri": "https://localhost:8080/"
        },
        "id": "Xtejs-gEvFJe",
        "outputId": "c9969500-c3a3-484d-85c3-af114cc6eb01"
      },
      "execution_count": 25,
      "outputs": [
        {
          "output_type": "execute_result",
          "data": {
            "text/plain": [
              "RandomForestClassifier()"
            ]
          },
          "metadata": {},
          "execution_count": 25
        }
      ]
    },
    {
      "cell_type": "markdown",
      "source": [
        "**Predict Test Data**"
      ],
      "metadata": {
        "id": "vNtVaZLUvYlI"
      }
    },
    {
      "cell_type": "code",
      "source": [
        "y_pred = rf.predict(x_test)"
      ],
      "metadata": {
        "id": "5EhQiW6xvciL"
      },
      "execution_count": 26,
      "outputs": []
    },
    {
      "cell_type": "code",
      "source": [
        "y_pred"
      ],
      "metadata": {
        "colab": {
          "base_uri": "https://localhost:8080/"
        },
        "id": "oyXYDissvhSx",
        "outputId": "dcd5ac5d-42f2-4405-81c2-d25d8b729141"
      },
      "execution_count": 27,
      "outputs": [
        {
          "output_type": "execute_result",
          "data": {
            "text/plain": [
              "array([3, 2, 0, 5, 7, 0, 0, 1, 2, 0, 9, 9, 1, 7, 6, 8, 3, 5, 6, 0, 7, 2,\n",
              "       0, 6, 2, 2, 1, 6, 2, 0, 9, 6, 1, 3, 7, 9, 7, 1, 1, 1, 7, 0, 5, 0,\n",
              "       4, 7, 8, 7, 3, 2, 1, 2, 2, 7, 8, 3, 2, 9, 7, 9, 3, 8, 5, 8, 9, 8,\n",
              "       2, 1, 4, 2, 6, 2, 2, 6, 2, 6, 4, 0, 8, 6, 5, 5, 8, 1, 4, 7, 8, 7,\n",
              "       0, 0, 3, 5, 8, 8, 0, 6, 3, 0, 7, 9, 0, 3, 3, 1, 0, 0, 4, 3, 6, 5,\n",
              "       8, 5, 4, 7, 4, 0, 0, 3, 1, 5, 4, 6, 3, 6, 2, 5, 0, 8, 9, 9, 1, 0,\n",
              "       1, 1, 8, 5, 7, 8, 9, 1, 5, 4, 0, 8, 8, 9, 7, 8, 6, 7, 1, 2, 1, 1,\n",
              "       2, 0, 3, 4, 5, 6, 0, 4, 3, 8, 8, 6, 1, 8, 2, 0, 1, 4, 2, 5, 6, 5,\n",
              "       8, 9, 8, 3, 7, 9, 7, 4, 8, 2, 9, 2, 1, 2, 9, 2, 8, 7, 4, 3, 0, 4,\n",
              "       0, 5, 5, 5, 1, 4, 9, 1, 9, 1, 6, 0, 7, 0, 2, 1, 4, 4, 9, 8, 7, 2,\n",
              "       7, 2, 0, 0, 6, 2, 8, 6, 4, 9, 2, 9, 4, 0, 9, 6, 2, 3, 0, 8, 2, 0,\n",
              "       1, 3, 5, 7, 2, 1, 4, 6, 5, 4, 2, 3, 7, 7, 1, 4, 4, 4, 1, 3, 0, 9,\n",
              "       1, 4, 5, 1, 1, 5, 0, 5, 9, 1, 9, 5, 7, 0, 2, 8, 0, 6, 1, 4, 0, 9,\n",
              "       0, 4, 1, 4, 0, 8, 6, 2, 5, 1, 1, 0, 7, 9, 8, 2, 7, 2, 0, 6, 4, 0,\n",
              "       2, 4, 6, 9, 0, 7, 2, 5, 2, 2, 8, 6, 4, 6, 7, 0, 7, 0, 2, 7, 4, 9,\n",
              "       9, 8, 3, 0, 1, 7, 9, 2, 3, 8, 4, 7, 4, 9, 6, 3, 9, 1, 2, 3, 5, 2,\n",
              "       2, 2, 4, 8, 3, 3, 7, 9, 1, 5, 5, 7, 3, 6, 1, 4, 8, 1, 4, 5, 1, 1,\n",
              "       7, 6, 4, 3, 1, 0, 5, 4, 1, 3, 8, 7, 4, 8, 6, 8, 4, 4, 6, 6, 5, 7,\n",
              "       8, 7, 3, 0, 8, 7, 1, 8, 3, 4, 4, 8, 0, 6, 1, 5, 8, 1, 4, 4, 8, 0,\n",
              "       1, 4, 3, 2, 3, 7, 3, 7, 8, 6, 3, 4, 5, 1, 8, 9, 1, 7, 1, 0, 5, 5,\n",
              "       9, 2, 8, 4, 2, 9, 3, 2, 5, 8, 7, 1, 0, 8, 6, 8, 6, 3, 2, 1, 7, 1,\n",
              "       1, 7, 7, 9, 2, 3, 2, 6, 3, 3, 0, 9, 3, 7, 9, 6, 7, 3, 9, 3, 9, 5,\n",
              "       2, 1, 2, 8, 3, 4, 5, 7, 3, 5, 2, 2, 6, 8, 8, 4, 8, 8, 7, 0, 6, 5,\n",
              "       8, 4, 9, 3, 1, 6, 0, 2, 2, 5, 8, 9, 5, 0, 0, 7, 0, 5, 7, 7, 1, 9,\n",
              "       1, 1, 6, 4, 7, 3, 0, 5, 6, 1, 7, 1])"
            ]
          },
          "metadata": {},
          "execution_count": 27
        }
      ]
    },
    {
      "cell_type": "markdown",
      "source": [
        "**Model Accuracy**"
      ],
      "metadata": {
        "id": "rq1ORuIFvmOu"
      }
    },
    {
      "cell_type": "code",
      "source": [
        "from sklearn.metrics import confusion_matrix, classification_report"
      ],
      "metadata": {
        "id": "Dp1aDtFLvo4k"
      },
      "execution_count": 28,
      "outputs": []
    },
    {
      "cell_type": "code",
      "source": [
        "confusion_matrix(y_test, y_pred)"
      ],
      "metadata": {
        "colab": {
          "base_uri": "https://localhost:8080/"
        },
        "id": "_FI18yiKvpLn",
        "outputId": "934f5e84-bdba-4344-f313-4592c9a2b7c8"
      },
      "execution_count": 29,
      "outputs": [
        {
          "output_type": "execute_result",
          "data": {
            "text/plain": [
              "array([[61,  0,  0,  0,  0,  0,  0,  0,  0,  0],\n",
              "       [ 0, 58,  0,  0,  0,  0,  0,  0,  0,  0],\n",
              "       [ 0,  0, 58,  0,  0,  0,  0,  0,  0,  0],\n",
              "       [ 0,  0,  0, 48,  0,  0,  0,  1,  0,  0],\n",
              "       [ 0,  0,  0,  0, 54,  0,  0,  1,  0,  1],\n",
              "       [ 0,  0,  0,  0,  0, 45,  0,  0,  0,  0],\n",
              "       [ 0,  1,  0,  0,  0,  0, 45,  0,  1,  0],\n",
              "       [ 0,  0,  0,  0,  0,  0,  0, 55,  1,  1],\n",
              "       [ 0,  6,  2,  0,  0,  0,  0,  1, 56,  0],\n",
              "       [ 0,  0,  0,  0,  0,  1,  0,  0,  0, 43]])"
            ]
          },
          "metadata": {},
          "execution_count": 29
        }
      ]
    },
    {
      "cell_type": "code",
      "source": [
        "print(classification_report(y_test, y_pred))"
      ],
      "metadata": {
        "colab": {
          "base_uri": "https://localhost:8080/"
        },
        "id": "svHmKXNuvpPa",
        "outputId": "d8643448-0a07-4f5b-d50d-2a02dc6955a6"
      },
      "execution_count": 30,
      "outputs": [
        {
          "output_type": "stream",
          "name": "stdout",
          "text": [
            "              precision    recall  f1-score   support\n",
            "\n",
            "           0       1.00      1.00      1.00        61\n",
            "           1       0.89      1.00      0.94        58\n",
            "           2       0.97      1.00      0.98        58\n",
            "           3       1.00      0.98      0.99        49\n",
            "           4       1.00      0.96      0.98        56\n",
            "           5       0.98      1.00      0.99        45\n",
            "           6       1.00      0.96      0.98        47\n",
            "           7       0.95      0.96      0.96        57\n",
            "           8       0.97      0.86      0.91        65\n",
            "           9       0.96      0.98      0.97        44\n",
            "\n",
            "    accuracy                           0.97       540\n",
            "   macro avg       0.97      0.97      0.97       540\n",
            "weighted avg       0.97      0.97      0.97       540\n",
            "\n"
          ]
        }
      ]
    }
  ]
}